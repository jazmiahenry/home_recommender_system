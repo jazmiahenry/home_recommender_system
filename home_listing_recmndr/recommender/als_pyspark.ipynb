{
 "cells": [
  {
   "cell_type": "code",
   "execution_count": 10,
   "id": "d9240d77",
   "metadata": {
    "scrolled": true
   },
   "outputs": [],
   "source": [
    "import numpy as np\n",
    "from pyspark.sql import SparkSession\n",
    "from pyspark.ml.recommendation import ALS\n",
    "from pyspark.ml.evaluation import RegressionEvaluator\n",
    "from pyspark.ml.tuning import CrossValidator, ParamGridBuilder, TrainValidationSplit\n",
    "from pyspark.mllib.recommendation import ALS, MatrixFactorizationModel, Rating\n",
    "\n",
    "#system requirements: pyspark, java8\n",
    "\n",
    "class als_mf():\n",
    "\tdef __init__(self, ratings, verbose = True):\n",
    "\t\t\"\"\"\n",
    "\t\tRecommend listsings under the assumption that a predicted rating R is approximate to the user matrix multiplied by its transpose times the item matrix multiplied by it's transpose\n",
    "\n",
    "\t\tParameters\n",
    "\t\t----------\n",
    "\t\tratings: (array)\n",
    "\t\t\tUser x Item matrix for approximate ratings\n",
    "\n",
    "\t\tlatent_factors: (int)\n",
    "\t\t\tDimension k- hyperparameter that can be optimized using grid search\n",
    "\n",
    "\t\tverbose: (bool)\n",
    "\t\t\tTo Print Training Progress or not to Print Training Progress\n",
    "\t\t\"\"\"\n",
    "\n",
    "\t\tspark= SparkSession.builder.master(\"local[1]\").appName(\"ALS_Recommender\").getOrCreate()\n",
    "\n",
    "\t\tdata = spark.read.format(\"csv\").option(\"header\", \"true\").load(\"../data/interaction.csv\")\n",
    "\n",
    "\t\ttrain, test = data.randomSplit([.75, .25], seed = 42)\n",
    "\n",
    "\tdef train(self, als, userCol = 'id_user', itemCol = 'power_rankings'):\n",
    "\n",
    "\n",
    "\t\tals = ALS(implicitPrefs = False, userCol = 'id_user', itemCol = 'ranked_listing_'\n",
    "\t\t, coldStartStrategy = 'drop')\n",
    "\n",
    "\t\tmodel = als.fit(train)\n",
    "\n",
    "\tdef hyperparameters(params):\n",
    "\n",
    "\n",
    "\t\tparams = ParamGridBuilder() \\\n",
    "\t\t\t\t.addGrid(model.rank, [5, 10]) \\\n",
    "\t\t\t\t.addGrid(model.maxIter, [10, 25]) \\\n",
    "\t\t\t\t.addGrid(model.regParam, [.01, .001]) \\\n",
    "\t\t\t\t.build()\n",
    "\n",
    "\t\tevaluator = RegressionEvaluator(metricName = \"rmse\", labelCol = \"rmse_scores\")\n",
    "\n",
    "\t\tcv = CrossValidator(estimator = model\n",
    "\t\t\t, estimatorParamMaps = params\n",
    "\t\t\t, evaluator = evaluator)\n",
    "\n",
    "\t\tcv_run = cv.fit(train)\n",
    "\n",
    "\n",
    "\tdef predict():\n",
    "\n",
    "\t\tpredict_test= cv_run.bestModel.transform(test)\n",
    "\n",
    "\t\tuserRecs = predict_test.recommendForAllUsers(10)\n",
    "\t\titemRecs = predict_test.recommendForAllUsers(10)\n",
    "\n",
    "\tdef save_model(model):\n",
    "\n",
    "\t\tpath = \"/models\"\n",
    "\n",
    "\t\tcv_run.write().overwrite().save(path)\n",
    "\n",
    "\tspark.stop()"
   ]
  },
  {
   "cell_type": "code",
   "execution_count": null,
   "id": "4aebfde6",
   "metadata": {},
   "outputs": [],
   "source": [
    "als_mf()"
   ]
  }
 ],
 "metadata": {
  "kernelspec": {
   "display_name": "Python [conda env:pyspark_env]",
   "language": "python",
   "name": "conda-env-pyspark_env-py"
  },
  "language_info": {
   "codemirror_mode": {
    "name": "ipython",
    "version": 3
   },
   "file_extension": ".py",
   "mimetype": "text/x-python",
   "name": "python",
   "nbconvert_exporter": "python",
   "pygments_lexer": "ipython3",
   "version": "3.7.12"
  }
 },
 "nbformat": 4,
 "nbformat_minor": 5
}
